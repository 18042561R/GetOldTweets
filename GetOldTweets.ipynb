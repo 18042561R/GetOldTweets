{
 "cells": [
  {
   "cell_type": "code",
   "execution_count": 1,
   "metadata": {},
   "outputs": [
    {
     "name": "stdout",
     "output_type": "stream",
     "text": [
      "Collecting GetOldTweets3\n",
      "  Downloading https://files.pythonhosted.org/packages/9b/e6/e0d40bcdff849dd2aede00c043b16862d94f887fffdd8f0a14e4d4a8baf0/GetOldTweets3-0.0.10-py3-none-any.whl\n",
      "Requirement already satisfied: lxml>=3.5.0 in c:\\users\\user\\anaconda3\\lib\\site-packages (from GetOldTweets3) (4.1.1)\n",
      "Collecting pyquery>=1.2.10 (from GetOldTweets3)\n",
      "  Downloading https://files.pythonhosted.org/packages/09/c7/ce8c9c37ab8ff8337faad3335c088d60bed4a35a4bed33a64f0e64fbcf29/pyquery-1.4.0-py2.py3-none-any.whl\n",
      "Collecting cssselect>0.7.9 (from pyquery>=1.2.10->GetOldTweets3)\n",
      "  Downloading https://files.pythonhosted.org/packages/7b/44/25b7283e50585f0b4156960691d951b05d061abf4a714078393e51929b30/cssselect-1.0.3-py2.py3-none-any.whl\n",
      "Installing collected packages: cssselect, pyquery, GetOldTweets3\n",
      "Successfully installed GetOldTweets3-0.0.10 cssselect-1.0.3 pyquery-1.4.0\n"
     ]
    },
    {
     "name": "stderr",
     "output_type": "stream",
     "text": [
      "You are using pip version 19.0.3, however version 19.1.1 is available.\n",
      "You should consider upgrading via the 'python -m pip install --upgrade pip' command.\n"
     ]
    }
   ],
   "source": [
    "!pip install GetOldTweets3"
   ]
  },
  {
   "cell_type": "code",
   "execution_count": 2,
   "metadata": {},
   "outputs": [],
   "source": [
    "import GetOldTweets3 as got"
   ]
  },
  {
   "cell_type": "code",
   "execution_count": null,
   "metadata": {},
   "outputs": [],
   "source": [
    "# Python classes\n",
    "# Tweet: Model class that describes a specific tweet. \n",
    "\n",
    "#   id (str)\n",
    "#   permalink (str)\n",
    "#   username (str)\n",
    "#   to (str)\n",
    "#   text (str)\n",
    "#   date (datetime) in UTC\n",
    "#   retweets (int)\n",
    "#   favorites (int)\n",
    "#   mentions (str)\n",
    "#   hashtags (str)\n",
    "#   geo (str)\n",
    "#   TweetManager: A manager class to help getting tweets in Tweet's model.\n",
    "\n",
    "#   getTweets (TwitterCriteria): Return the list of tweets retrieved by using an instance of TwitterCriteria.\n",
    "#   TwitterCriteria: A collection of search parameters to be used together with TweetManager.  \n",
    "\n",
    "#   setUsername (str or iterable): An optional specific username(s) from a twitter account (with or without \"@\").\n",
    "#   setSince (str. \"yyyy-mm-dd\"): A lower bound date (UTC) to restrict search.\n",
    "#   setUntil (str. \"yyyy-mm-dd\"): An upper bound date (not included) to restrict search.\n",
    "#   setQuerySearch (str): A query text to be matched.\n",
    "#   setTopTweets (bool): If True only the Top Tweets will be retrieved.\n",
    "#   setNear(str): A reference location area from where tweets were generated.\n",
    "#   setWithin (str): A distance radius from \"near\" location (e.g. 15mi).\n",
    "#   setMaxTweets (int): The maximum number of tweets to be retrieved. If this number is unsetted or lower than 1 all possible tweets will be retrieved.  "
   ]
  },
  {
   "cell_type": "code",
   "execution_count": null,
   "metadata": {},
   "outputs": [],
   "source": []
  },
  {
   "cell_type": "code",
   "execution_count": 38,
   "metadata": {
    "scrolled": false
   },
   "outputs": [
    {
     "ename": "IndexError",
     "evalue": "list index out of range",
     "output_type": "error",
     "traceback": [
      "\u001b[1;31m---------------------------------------------------------------------------\u001b[0m",
      "\u001b[1;31mIndexError\u001b[0m                                Traceback (most recent call last)",
      "\u001b[1;32m<ipython-input-38-1c5f9b74a255>\u001b[0m in \u001b[0;36m<module>\u001b[1;34m()\u001b[0m\n\u001b[0;32m      6\u001b[0m \u001b[1;33m\u001b[0m\u001b[0m\n\u001b[0;32m      7\u001b[0m \u001b[1;33m\u001b[0m\u001b[0m\n\u001b[1;32m----> 8\u001b[1;33m \u001b[0mtweet\u001b[0m \u001b[1;33m=\u001b[0m \u001b[0mgot\u001b[0m\u001b[1;33m.\u001b[0m\u001b[0mmanager\u001b[0m\u001b[1;33m.\u001b[0m\u001b[0mTweetManager\u001b[0m\u001b[1;33m.\u001b[0m\u001b[0mgetTweets\u001b[0m\u001b[1;33m(\u001b[0m\u001b[0mtweetCriteria\u001b[0m\u001b[1;33m)\u001b[0m\u001b[1;33m[\u001b[0m\u001b[1;36m3\u001b[0m\u001b[1;33m]\u001b[0m\u001b[1;33m\u001b[0m\u001b[0m\n\u001b[0m\u001b[0;32m      9\u001b[0m \u001b[1;33m\u001b[0m\u001b[0m\n\u001b[0;32m     10\u001b[0m \u001b[0mtweet\u001b[0m\u001b[1;33m.\u001b[0m\u001b[0mtext\u001b[0m\u001b[1;33m\u001b[0m\u001b[0m\n",
      "\u001b[1;31mIndexError\u001b[0m: list index out of range"
     ]
    }
   ],
   "source": [
    "tweetCriteria = got.manager.TweetCriteria().setQuerySearch(\"noise\")\\\n",
    "                                           .setSince(\"2015-01-01\")\\\n",
    "                                           .setUntil(\"2016-12-30\")\\\n",
    "                                           .setMaxTweets(3).setNear('22.304384,114.178620').setWithin('1.5km')\n",
    "            \n",
    "            \n",
    "            \n",
    "            \n",
    "            \n",
    "            \n",
    "tweet = got.manager.TweetManager.getTweets(tweetCriteria)[3]\n",
    "\n",
    "tweet.text"
   ]
  },
  {
   "cell_type": "code",
   "execution_count": null,
   "metadata": {},
   "outputs": [],
   "source": [
    "tweet = got.manager.TweetManager.getTweets(tweetCriteria)\n",
    "print(len(tweet))"
   ]
  },
  {
   "cell_type": "code",
   "execution_count": null,
   "metadata": {},
   "outputs": [],
   "source": []
  },
  {
   "cell_type": "code",
   "execution_count": null,
   "metadata": {},
   "outputs": [],
   "source": []
  },
  {
   "cell_type": "code",
   "execution_count": null,
   "metadata": {},
   "outputs": [],
   "source": []
  },
  {
   "cell_type": "code",
   "execution_count": null,
   "metadata": {},
   "outputs": [],
   "source": []
  }
 ],
 "metadata": {
  "kernelspec": {
   "display_name": "Python 3",
   "language": "python",
   "name": "python3"
  },
  "language_info": {
   "codemirror_mode": {
    "name": "ipython",
    "version": 3
   },
   "file_extension": ".py",
   "mimetype": "text/x-python",
   "name": "python",
   "nbconvert_exporter": "python",
   "pygments_lexer": "ipython3",
   "version": "3.6.5"
  }
 },
 "nbformat": 4,
 "nbformat_minor": 2
}
